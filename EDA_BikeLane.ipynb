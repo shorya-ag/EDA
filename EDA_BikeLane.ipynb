{
  "nbformat": 4,
  "nbformat_minor": 0,
  "metadata": {
    "colab": {
      "provenance": [],
      "authorship_tag": "ABX9TyPHmFxOM9qoVlYVg8RHdUZl",
      "include_colab_link": true
    },
    "kernelspec": {
      "name": "python3",
      "display_name": "Python 3"
    },
    "language_info": {
      "name": "python"
    }
  },
  "cells": [
    {
      "cell_type": "markdown",
      "metadata": {
        "id": "view-in-github",
        "colab_type": "text"
      },
      "source": [
        "<a href=\"https://colab.research.google.com/github/shorya-ag/EDA/blob/main/EDA_BikeLane.ipynb\" target=\"_parent\"><img src=\"https://colab.research.google.com/assets/colab-badge.svg\" alt=\"Open In Colab\"/></a>"
      ]
    },
    {
      "cell_type": "markdown",
      "source": [
        "\n",
        "# **EDA for BIKE LANES**"
      ],
      "metadata": {
        "id": "9ap4_gUTOESe"
      }
    },
    {
      "cell_type": "markdown",
      "source": [
        "importing all the libraries\n"
      ],
      "metadata": {
        "id": "tW0wPnQXTYHZ"
      }
    },
    {
      "cell_type": "code",
      "source": [
        "import pandas as pd\n",
        "import numpy as np\n",
        "import seaborn as sns\n",
        "import matplotlib.pyplot as plt"
      ],
      "metadata": {
        "id": "4fMk6WhlTdNu"
      },
      "execution_count": 1,
      "outputs": []
    },
    {
      "cell_type": "markdown",
      "source": [
        "importing the data "
      ],
      "metadata": {
        "id": "832qrP0YTksf"
      }
    },
    {
      "cell_type": "code",
      "source": [
        "bl = pd.read_csv(\"/content/Bike_Lanes.csv\")\n",
        "bl.head()"
      ],
      "metadata": {
        "colab": {
          "base_uri": "https://localhost:8080/",
          "height": 319
        },
        "id": "2xA0vwFBTo6g",
        "outputId": "fcfc3572-ead7-459b-b5a4-9c45249d4931"
      },
      "execution_count": 4,
      "outputs": [
        {
          "output_type": "execute_result",
          "data": {
            "text/plain": [
              "  subType             name                   block            type  numLanes  \\\n",
              "0                                                   BIKE BOULEVARD         1   \n",
              "1                                                         SIDEPATH         1   \n",
              "2                                                     SIGNED ROUTE         1   \n",
              "3          HUNTINGDON PATH                                SIDEPATH         1   \n",
              "4   STCLN    EDMONDSON AVE  5300 BLK EDMONDSON AVE       BIKE LANE         1   \n",
              "\n",
              "                  project     route       length  dateInstalled  \n",
              "0  GUILFORD AVE BIKE BLVD             435.737877              0  \n",
              "1                          NORTHERN  1024.674625           2010  \n",
              "2  SOUTHEAST BIKE NETWORK            3749.322638           2010  \n",
              "3                                       0.000000              0  \n",
              "4   OPERATION ORANGE CONE             180.925465           2011  "
            ],
            "text/html": [
              "\n",
              "  <div id=\"df-7925a64b-e430-4896-b780-8995873eef50\">\n",
              "    <div class=\"colab-df-container\">\n",
              "      <div>\n",
              "<style scoped>\n",
              "    .dataframe tbody tr th:only-of-type {\n",
              "        vertical-align: middle;\n",
              "    }\n",
              "\n",
              "    .dataframe tbody tr th {\n",
              "        vertical-align: top;\n",
              "    }\n",
              "\n",
              "    .dataframe thead th {\n",
              "        text-align: right;\n",
              "    }\n",
              "</style>\n",
              "<table border=\"1\" class=\"dataframe\">\n",
              "  <thead>\n",
              "    <tr style=\"text-align: right;\">\n",
              "      <th></th>\n",
              "      <th>subType</th>\n",
              "      <th>name</th>\n",
              "      <th>block</th>\n",
              "      <th>type</th>\n",
              "      <th>numLanes</th>\n",
              "      <th>project</th>\n",
              "      <th>route</th>\n",
              "      <th>length</th>\n",
              "      <th>dateInstalled</th>\n",
              "    </tr>\n",
              "  </thead>\n",
              "  <tbody>\n",
              "    <tr>\n",
              "      <th>0</th>\n",
              "      <td></td>\n",
              "      <td></td>\n",
              "      <td></td>\n",
              "      <td>BIKE BOULEVARD</td>\n",
              "      <td>1</td>\n",
              "      <td>GUILFORD AVE BIKE BLVD</td>\n",
              "      <td></td>\n",
              "      <td>435.737877</td>\n",
              "      <td>0</td>\n",
              "    </tr>\n",
              "    <tr>\n",
              "      <th>1</th>\n",
              "      <td></td>\n",
              "      <td></td>\n",
              "      <td></td>\n",
              "      <td>SIDEPATH</td>\n",
              "      <td>1</td>\n",
              "      <td></td>\n",
              "      <td>NORTHERN</td>\n",
              "      <td>1024.674625</td>\n",
              "      <td>2010</td>\n",
              "    </tr>\n",
              "    <tr>\n",
              "      <th>2</th>\n",
              "      <td></td>\n",
              "      <td></td>\n",
              "      <td></td>\n",
              "      <td>SIGNED ROUTE</td>\n",
              "      <td>1</td>\n",
              "      <td>SOUTHEAST BIKE NETWORK</td>\n",
              "      <td></td>\n",
              "      <td>3749.322638</td>\n",
              "      <td>2010</td>\n",
              "    </tr>\n",
              "    <tr>\n",
              "      <th>3</th>\n",
              "      <td></td>\n",
              "      <td>HUNTINGDON PATH</td>\n",
              "      <td></td>\n",
              "      <td>SIDEPATH</td>\n",
              "      <td>1</td>\n",
              "      <td></td>\n",
              "      <td></td>\n",
              "      <td>0.000000</td>\n",
              "      <td>0</td>\n",
              "    </tr>\n",
              "    <tr>\n",
              "      <th>4</th>\n",
              "      <td>STCLN</td>\n",
              "      <td>EDMONDSON AVE</td>\n",
              "      <td>5300 BLK EDMONDSON AVE</td>\n",
              "      <td>BIKE LANE</td>\n",
              "      <td>1</td>\n",
              "      <td>OPERATION ORANGE CONE</td>\n",
              "      <td></td>\n",
              "      <td>180.925465</td>\n",
              "      <td>2011</td>\n",
              "    </tr>\n",
              "  </tbody>\n",
              "</table>\n",
              "</div>\n",
              "      <button class=\"colab-df-convert\" onclick=\"convertToInteractive('df-7925a64b-e430-4896-b780-8995873eef50')\"\n",
              "              title=\"Convert this dataframe to an interactive table.\"\n",
              "              style=\"display:none;\">\n",
              "        \n",
              "  <svg xmlns=\"http://www.w3.org/2000/svg\" height=\"24px\"viewBox=\"0 0 24 24\"\n",
              "       width=\"24px\">\n",
              "    <path d=\"M0 0h24v24H0V0z\" fill=\"none\"/>\n",
              "    <path d=\"M18.56 5.44l.94 2.06.94-2.06 2.06-.94-2.06-.94-.94-2.06-.94 2.06-2.06.94zm-11 1L8.5 8.5l.94-2.06 2.06-.94-2.06-.94L8.5 2.5l-.94 2.06-2.06.94zm10 10l.94 2.06.94-2.06 2.06-.94-2.06-.94-.94-2.06-.94 2.06-2.06.94z\"/><path d=\"M17.41 7.96l-1.37-1.37c-.4-.4-.92-.59-1.43-.59-.52 0-1.04.2-1.43.59L10.3 9.45l-7.72 7.72c-.78.78-.78 2.05 0 2.83L4 21.41c.39.39.9.59 1.41.59.51 0 1.02-.2 1.41-.59l7.78-7.78 2.81-2.81c.8-.78.8-2.07 0-2.86zM5.41 20L4 18.59l7.72-7.72 1.47 1.35L5.41 20z\"/>\n",
              "  </svg>\n",
              "      </button>\n",
              "      \n",
              "  <style>\n",
              "    .colab-df-container {\n",
              "      display:flex;\n",
              "      flex-wrap:wrap;\n",
              "      gap: 12px;\n",
              "    }\n",
              "\n",
              "    .colab-df-convert {\n",
              "      background-color: #E8F0FE;\n",
              "      border: none;\n",
              "      border-radius: 50%;\n",
              "      cursor: pointer;\n",
              "      display: none;\n",
              "      fill: #1967D2;\n",
              "      height: 32px;\n",
              "      padding: 0 0 0 0;\n",
              "      width: 32px;\n",
              "    }\n",
              "\n",
              "    .colab-df-convert:hover {\n",
              "      background-color: #E2EBFA;\n",
              "      box-shadow: 0px 1px 2px rgba(60, 64, 67, 0.3), 0px 1px 3px 1px rgba(60, 64, 67, 0.15);\n",
              "      fill: #174EA6;\n",
              "    }\n",
              "\n",
              "    [theme=dark] .colab-df-convert {\n",
              "      background-color: #3B4455;\n",
              "      fill: #D2E3FC;\n",
              "    }\n",
              "\n",
              "    [theme=dark] .colab-df-convert:hover {\n",
              "      background-color: #434B5C;\n",
              "      box-shadow: 0px 1px 3px 1px rgba(0, 0, 0, 0.15);\n",
              "      filter: drop-shadow(0px 1px 2px rgba(0, 0, 0, 0.3));\n",
              "      fill: #FFFFFF;\n",
              "    }\n",
              "  </style>\n",
              "\n",
              "      <script>\n",
              "        const buttonEl =\n",
              "          document.querySelector('#df-7925a64b-e430-4896-b780-8995873eef50 button.colab-df-convert');\n",
              "        buttonEl.style.display =\n",
              "          google.colab.kernel.accessAllowed ? 'block' : 'none';\n",
              "\n",
              "        async function convertToInteractive(key) {\n",
              "          const element = document.querySelector('#df-7925a64b-e430-4896-b780-8995873eef50');\n",
              "          const dataTable =\n",
              "            await google.colab.kernel.invokeFunction('convertToInteractive',\n",
              "                                                     [key], {});\n",
              "          if (!dataTable) return;\n",
              "\n",
              "          const docLinkHtml = 'Like what you see? Visit the ' +\n",
              "            '<a target=\"_blank\" href=https://colab.research.google.com/notebooks/data_table.ipynb>data table notebook</a>'\n",
              "            + ' to learn more about interactive tables.';\n",
              "          element.innerHTML = '';\n",
              "          dataTable['output_type'] = 'display_data';\n",
              "          await google.colab.output.renderOutput(dataTable, element);\n",
              "          const docLink = document.createElement('div');\n",
              "          docLink.innerHTML = docLinkHtml;\n",
              "          element.appendChild(docLink);\n",
              "        }\n",
              "      </script>\n",
              "    </div>\n",
              "  </div>\n",
              "  "
            ]
          },
          "metadata": {},
          "execution_count": 4
        }
      ]
    },
    {
      "cell_type": "markdown",
      "source": [
        "checking types of data"
      ],
      "metadata": {
        "id": "mdQEXNnDUSUl"
      }
    },
    {
      "cell_type": "code",
      "source": [
        "bl.dtypes"
      ],
      "metadata": {
        "colab": {
          "base_uri": "https://localhost:8080/"
        },
        "id": "54X_OpwlUVGa",
        "outputId": "df95fcf2-3308-4c33-921d-18e14ccb9062"
      },
      "execution_count": 5,
      "outputs": [
        {
          "output_type": "execute_result",
          "data": {
            "text/plain": [
              "subType           object\n",
              "name              object\n",
              "block             object\n",
              "type              object\n",
              "numLanes           int64\n",
              "project           object\n",
              "route             object\n",
              "length           float64\n",
              "dateInstalled      int64\n",
              "dtype: object"
            ]
          },
          "metadata": {},
          "execution_count": 5
        }
      ]
    },
    {
      "cell_type": "markdown",
      "source": [
        "dropping of columns "
      ],
      "metadata": {
        "id": "kJFcPCVQZloz"
      }
    },
    {
      "cell_type": "code",
      "source": [
        "bl['project']\n"
      ],
      "metadata": {
        "colab": {
          "base_uri": "https://localhost:8080/"
        },
        "id": "_nrp2ffeZmoq",
        "outputId": "dc30f39c-2b8d-47d4-c138-dc42aa1079cd"
      },
      "execution_count": 39,
      "outputs": [
        {
          "output_type": "execute_result",
          "data": {
            "text/plain": [
              "0       GUILFORD AVE BIKE BLVD\n",
              "1                             \n",
              "2       SOUTHEAST BIKE NETWORK\n",
              "3                             \n",
              "4        OPERATION ORANGE CONE\n",
              "                 ...          \n",
              "1626       COLLEGETOWN NETWORK\n",
              "1627               COLLEGETOWN\n",
              "1628               COLLEGETOWN\n",
              "1629               COLLEGETOWN\n",
              "1630               COLLEGETOWN\n",
              "Name: project, Length: 1631, dtype: object"
            ]
          },
          "metadata": {},
          "execution_count": 39
        }
      ]
    },
    {
      "cell_type": "markdown",
      "source": [
        "renaming of columns:\n",
        "\n",
        "1. dateInstalled to date \n",
        "\n",
        "2. numLanes to lanes\n",
        "\n"
      ],
      "metadata": {
        "id": "7YRGBI2OU6CE"
      }
    },
    {
      "cell_type": "code",
      "source": [
        "bl = bl.rename(columns = {\"dateInstalled\" : \"date\",\"numLanes\" : \"lanes\"})\n",
        "bl"
      ],
      "metadata": {
        "colab": {
          "base_uri": "https://localhost:8080/",
          "height": 423
        },
        "id": "DCFzMeorVB-w",
        "outputId": "59636a65-d33e-4385-c47b-3705fd2def8c"
      },
      "execution_count": 40,
      "outputs": [
        {
          "output_type": "execute_result",
          "data": {
            "text/plain": [
              "                 name                   block            type  lanes  \\\n",
              "0                                              BIKE BOULEVARD      1   \n",
              "1                                                    SIDEPATH      1   \n",
              "2                                                SIGNED ROUTE      1   \n",
              "3     HUNTINGDON PATH                                SIDEPATH      1   \n",
              "4       EDMONDSON AVE  5300 BLK EDMONDSON AVE       BIKE LANE      1   \n",
              "...               ...                     ...             ...    ...   \n",
              "1626    WYMAN PARK DR  3100 BLK WYMAN PARK DR    SIGNED ROUTE      2   \n",
              "1627    WYMAN PARK DR   700 BLK WYMAN PARK DR         SHARROW      2   \n",
              "1628    WYMAN PARK DR   800 BLK WYMAN PARK DR         SHARROW      2   \n",
              "1629    WYMAN PARK DR   900 BLK WYMAN PARK DR         SHARROW      2   \n",
              "1630        YORK ROAD                            SIGNED ROUTE      2   \n",
              "\n",
              "                     project        route       length  date  \n",
              "0     GUILFORD AVE BIKE BLVD                435.737877     0  \n",
              "1                                NORTHERN  1024.674625  2010  \n",
              "2     SOUTHEAST BIKE NETWORK               3749.322638  2010  \n",
              "3                                             0.000000     0  \n",
              "4      OPERATION ORANGE CONE                180.925465  2011  \n",
              "...                      ...          ...          ...   ...  \n",
              "1626     COLLEGETOWN NETWORK                350.853741  2007  \n",
              "1627             COLLEGETOWN                284.616617  2007  \n",
              "1628             COLLEGETOWN                394.118849  2007  \n",
              "1629             COLLEGETOWN                281.962303  2007  \n",
              "1630             COLLEGETOWN  COLLEGETOWN    66.526522  2007  \n",
              "\n",
              "[1631 rows x 8 columns]"
            ],
            "text/html": [
              "\n",
              "  <div id=\"df-4ceaaad4-86a8-4a78-ab21-58bf47cf92e9\">\n",
              "    <div class=\"colab-df-container\">\n",
              "      <div>\n",
              "<style scoped>\n",
              "    .dataframe tbody tr th:only-of-type {\n",
              "        vertical-align: middle;\n",
              "    }\n",
              "\n",
              "    .dataframe tbody tr th {\n",
              "        vertical-align: top;\n",
              "    }\n",
              "\n",
              "    .dataframe thead th {\n",
              "        text-align: right;\n",
              "    }\n",
              "</style>\n",
              "<table border=\"1\" class=\"dataframe\">\n",
              "  <thead>\n",
              "    <tr style=\"text-align: right;\">\n",
              "      <th></th>\n",
              "      <th>name</th>\n",
              "      <th>block</th>\n",
              "      <th>type</th>\n",
              "      <th>lanes</th>\n",
              "      <th>project</th>\n",
              "      <th>route</th>\n",
              "      <th>length</th>\n",
              "      <th>date</th>\n",
              "    </tr>\n",
              "  </thead>\n",
              "  <tbody>\n",
              "    <tr>\n",
              "      <th>0</th>\n",
              "      <td></td>\n",
              "      <td></td>\n",
              "      <td>BIKE BOULEVARD</td>\n",
              "      <td>1</td>\n",
              "      <td>GUILFORD AVE BIKE BLVD</td>\n",
              "      <td></td>\n",
              "      <td>435.737877</td>\n",
              "      <td>0</td>\n",
              "    </tr>\n",
              "    <tr>\n",
              "      <th>1</th>\n",
              "      <td></td>\n",
              "      <td></td>\n",
              "      <td>SIDEPATH</td>\n",
              "      <td>1</td>\n",
              "      <td></td>\n",
              "      <td>NORTHERN</td>\n",
              "      <td>1024.674625</td>\n",
              "      <td>2010</td>\n",
              "    </tr>\n",
              "    <tr>\n",
              "      <th>2</th>\n",
              "      <td></td>\n",
              "      <td></td>\n",
              "      <td>SIGNED ROUTE</td>\n",
              "      <td>1</td>\n",
              "      <td>SOUTHEAST BIKE NETWORK</td>\n",
              "      <td></td>\n",
              "      <td>3749.322638</td>\n",
              "      <td>2010</td>\n",
              "    </tr>\n",
              "    <tr>\n",
              "      <th>3</th>\n",
              "      <td>HUNTINGDON PATH</td>\n",
              "      <td></td>\n",
              "      <td>SIDEPATH</td>\n",
              "      <td>1</td>\n",
              "      <td></td>\n",
              "      <td></td>\n",
              "      <td>0.000000</td>\n",
              "      <td>0</td>\n",
              "    </tr>\n",
              "    <tr>\n",
              "      <th>4</th>\n",
              "      <td>EDMONDSON AVE</td>\n",
              "      <td>5300 BLK EDMONDSON AVE</td>\n",
              "      <td>BIKE LANE</td>\n",
              "      <td>1</td>\n",
              "      <td>OPERATION ORANGE CONE</td>\n",
              "      <td></td>\n",
              "      <td>180.925465</td>\n",
              "      <td>2011</td>\n",
              "    </tr>\n",
              "    <tr>\n",
              "      <th>...</th>\n",
              "      <td>...</td>\n",
              "      <td>...</td>\n",
              "      <td>...</td>\n",
              "      <td>...</td>\n",
              "      <td>...</td>\n",
              "      <td>...</td>\n",
              "      <td>...</td>\n",
              "      <td>...</td>\n",
              "    </tr>\n",
              "    <tr>\n",
              "      <th>1626</th>\n",
              "      <td>WYMAN PARK DR</td>\n",
              "      <td>3100 BLK WYMAN PARK DR</td>\n",
              "      <td>SIGNED ROUTE</td>\n",
              "      <td>2</td>\n",
              "      <td>COLLEGETOWN NETWORK</td>\n",
              "      <td></td>\n",
              "      <td>350.853741</td>\n",
              "      <td>2007</td>\n",
              "    </tr>\n",
              "    <tr>\n",
              "      <th>1627</th>\n",
              "      <td>WYMAN PARK DR</td>\n",
              "      <td>700 BLK WYMAN PARK DR</td>\n",
              "      <td>SHARROW</td>\n",
              "      <td>2</td>\n",
              "      <td>COLLEGETOWN</td>\n",
              "      <td></td>\n",
              "      <td>284.616617</td>\n",
              "      <td>2007</td>\n",
              "    </tr>\n",
              "    <tr>\n",
              "      <th>1628</th>\n",
              "      <td>WYMAN PARK DR</td>\n",
              "      <td>800 BLK WYMAN PARK DR</td>\n",
              "      <td>SHARROW</td>\n",
              "      <td>2</td>\n",
              "      <td>COLLEGETOWN</td>\n",
              "      <td></td>\n",
              "      <td>394.118849</td>\n",
              "      <td>2007</td>\n",
              "    </tr>\n",
              "    <tr>\n",
              "      <th>1629</th>\n",
              "      <td>WYMAN PARK DR</td>\n",
              "      <td>900 BLK WYMAN PARK DR</td>\n",
              "      <td>SHARROW</td>\n",
              "      <td>2</td>\n",
              "      <td>COLLEGETOWN</td>\n",
              "      <td></td>\n",
              "      <td>281.962303</td>\n",
              "      <td>2007</td>\n",
              "    </tr>\n",
              "    <tr>\n",
              "      <th>1630</th>\n",
              "      <td>YORK ROAD</td>\n",
              "      <td></td>\n",
              "      <td>SIGNED ROUTE</td>\n",
              "      <td>2</td>\n",
              "      <td>COLLEGETOWN</td>\n",
              "      <td>COLLEGETOWN</td>\n",
              "      <td>66.526522</td>\n",
              "      <td>2007</td>\n",
              "    </tr>\n",
              "  </tbody>\n",
              "</table>\n",
              "<p>1631 rows × 8 columns</p>\n",
              "</div>\n",
              "      <button class=\"colab-df-convert\" onclick=\"convertToInteractive('df-4ceaaad4-86a8-4a78-ab21-58bf47cf92e9')\"\n",
              "              title=\"Convert this dataframe to an interactive table.\"\n",
              "              style=\"display:none;\">\n",
              "        \n",
              "  <svg xmlns=\"http://www.w3.org/2000/svg\" height=\"24px\"viewBox=\"0 0 24 24\"\n",
              "       width=\"24px\">\n",
              "    <path d=\"M0 0h24v24H0V0z\" fill=\"none\"/>\n",
              "    <path d=\"M18.56 5.44l.94 2.06.94-2.06 2.06-.94-2.06-.94-.94-2.06-.94 2.06-2.06.94zm-11 1L8.5 8.5l.94-2.06 2.06-.94-2.06-.94L8.5 2.5l-.94 2.06-2.06.94zm10 10l.94 2.06.94-2.06 2.06-.94-2.06-.94-.94-2.06-.94 2.06-2.06.94z\"/><path d=\"M17.41 7.96l-1.37-1.37c-.4-.4-.92-.59-1.43-.59-.52 0-1.04.2-1.43.59L10.3 9.45l-7.72 7.72c-.78.78-.78 2.05 0 2.83L4 21.41c.39.39.9.59 1.41.59.51 0 1.02-.2 1.41-.59l7.78-7.78 2.81-2.81c.8-.78.8-2.07 0-2.86zM5.41 20L4 18.59l7.72-7.72 1.47 1.35L5.41 20z\"/>\n",
              "  </svg>\n",
              "      </button>\n",
              "      \n",
              "  <style>\n",
              "    .colab-df-container {\n",
              "      display:flex;\n",
              "      flex-wrap:wrap;\n",
              "      gap: 12px;\n",
              "    }\n",
              "\n",
              "    .colab-df-convert {\n",
              "      background-color: #E8F0FE;\n",
              "      border: none;\n",
              "      border-radius: 50%;\n",
              "      cursor: pointer;\n",
              "      display: none;\n",
              "      fill: #1967D2;\n",
              "      height: 32px;\n",
              "      padding: 0 0 0 0;\n",
              "      width: 32px;\n",
              "    }\n",
              "\n",
              "    .colab-df-convert:hover {\n",
              "      background-color: #E2EBFA;\n",
              "      box-shadow: 0px 1px 2px rgba(60, 64, 67, 0.3), 0px 1px 3px 1px rgba(60, 64, 67, 0.15);\n",
              "      fill: #174EA6;\n",
              "    }\n",
              "\n",
              "    [theme=dark] .colab-df-convert {\n",
              "      background-color: #3B4455;\n",
              "      fill: #D2E3FC;\n",
              "    }\n",
              "\n",
              "    [theme=dark] .colab-df-convert:hover {\n",
              "      background-color: #434B5C;\n",
              "      box-shadow: 0px 1px 3px 1px rgba(0, 0, 0, 0.15);\n",
              "      filter: drop-shadow(0px 1px 2px rgba(0, 0, 0, 0.3));\n",
              "      fill: #FFFFFF;\n",
              "    }\n",
              "  </style>\n",
              "\n",
              "      <script>\n",
              "        const buttonEl =\n",
              "          document.querySelector('#df-4ceaaad4-86a8-4a78-ab21-58bf47cf92e9 button.colab-df-convert');\n",
              "        buttonEl.style.display =\n",
              "          google.colab.kernel.accessAllowed ? 'block' : 'none';\n",
              "\n",
              "        async function convertToInteractive(key) {\n",
              "          const element = document.querySelector('#df-4ceaaad4-86a8-4a78-ab21-58bf47cf92e9');\n",
              "          const dataTable =\n",
              "            await google.colab.kernel.invokeFunction('convertToInteractive',\n",
              "                                                     [key], {});\n",
              "          if (!dataTable) return;\n",
              "\n",
              "          const docLinkHtml = 'Like what you see? Visit the ' +\n",
              "            '<a target=\"_blank\" href=https://colab.research.google.com/notebooks/data_table.ipynb>data table notebook</a>'\n",
              "            + ' to learn more about interactive tables.';\n",
              "          element.innerHTML = '';\n",
              "          dataTable['output_type'] = 'display_data';\n",
              "          await google.colab.output.renderOutput(dataTable, element);\n",
              "          const docLink = document.createElement('div');\n",
              "          docLink.innerHTML = docLinkHtml;\n",
              "          element.appendChild(docLink);\n",
              "        }\n",
              "      </script>\n",
              "    </div>\n",
              "  </div>\n",
              "  "
            ]
          },
          "metadata": {},
          "execution_count": 40
        }
      ]
    },
    {
      "cell_type": "markdown",
      "source": [
        "Now let's delete the duplicate rows "
      ],
      "metadata": {
        "id": "zo_JxH9XVsFB"
      }
    },
    {
      "cell_type": "code",
      "source": [
        "bl.shape"
      ],
      "metadata": {
        "colab": {
          "base_uri": "https://localhost:8080/"
        },
        "id": "1Emp7mlQWCNs",
        "outputId": "26090808-ad34-4038-b30e-1177262bb03c"
      },
      "execution_count": 9,
      "outputs": [
        {
          "output_type": "execute_result",
          "data": {
            "text/plain": [
              "(1631, 9)"
            ]
          },
          "metadata": {},
          "execution_count": 9
        }
      ]
    },
    {
      "cell_type": "code",
      "source": [
        "bl_duplicates = bl[bl.duplicated()]\n",
        "print(\"Number of duplicated rows are\",bl_duplicates)"
      ],
      "metadata": {
        "colab": {
          "base_uri": "https://localhost:8080/"
        },
        "id": "UOKiMwY_WGgM",
        "outputId": "73294d14-5228-47be-f4e3-55f66f9c4bba"
      },
      "execution_count": 10,
      "outputs": [
        {
          "output_type": "stream",
          "name": "stdout",
          "text": [
            "Number of duplicated rows are Empty DataFrame\n",
            "Columns: [subType, name, block, type, lanes, project, route, length, date]\n",
            "Index: []\n"
          ]
        }
      ]
    },
    {
      "cell_type": "code",
      "source": [
        "bl.count()"
      ],
      "metadata": {
        "colab": {
          "base_uri": "https://localhost:8080/"
        },
        "id": "1-DjDfBMWXD1",
        "outputId": "f0f5e57f-90c5-401f-f163-d2d2cc85ce5d"
      },
      "execution_count": 12,
      "outputs": [
        {
          "output_type": "execute_result",
          "data": {
            "text/plain": [
              "subType    1631\n",
              "name       1631\n",
              "block      1631\n",
              "type       1631\n",
              "lanes      1631\n",
              "project    1631\n",
              "route      1631\n",
              "length     1631\n",
              "date       1631\n",
              "dtype: int64"
            ]
          },
          "metadata": {},
          "execution_count": 12
        }
      ]
    },
    {
      "cell_type": "markdown",
      "source": [
        "We found that in our dataset there are no duplicate rows present. So now let's move on to dropping of missing or null values"
      ],
      "metadata": {
        "id": "LkgoxhERWiH4"
      }
    },
    {
      "cell_type": "code",
      "source": [
        "print(bl.isnull().sum())"
      ],
      "metadata": {
        "colab": {
          "base_uri": "https://localhost:8080/"
        },
        "id": "fU6YmSgQWvbZ",
        "outputId": "a6a86a9c-4324-49e1-9635-a26007c79385"
      },
      "execution_count": 15,
      "outputs": [
        {
          "output_type": "stream",
          "name": "stdout",
          "text": [
            "subType    0\n",
            "name       0\n",
            "block      0\n",
            "type       0\n",
            "lanes      0\n",
            "project    0\n",
            "route      0\n",
            "length     0\n",
            "date       0\n",
            "dtype: int64\n"
          ]
        }
      ]
    },
    {
      "cell_type": "code",
      "source": [
        "bl.describe()"
      ],
      "metadata": {
        "colab": {
          "base_uri": "https://localhost:8080/",
          "height": 300
        },
        "id": "iLqW7nXVYzhu",
        "outputId": "00aecc5a-e170-44a9-d2c6-4b6787650957"
      },
      "execution_count": 19,
      "outputs": [
        {
          "output_type": "execute_result",
          "data": {
            "text/plain": [
              "            lanes       length         date\n",
              "count  1631.00000  1631.000000  1631.000000\n",
              "mean      1.42244   269.434449  1853.945432\n",
              "std       0.51952   277.706646   536.597828\n",
              "min       0.00000     0.000000     0.000000\n",
              "25%       1.00000   124.040717  2007.000000\n",
              "50%       1.00000   200.302684  2010.000000\n",
              "75%       2.00000   341.022381  2010.000000\n",
              "max       2.00000  3749.322638  2013.000000"
            ],
            "text/html": [
              "\n",
              "  <div id=\"df-2587cb2b-77ff-4426-b3db-eb2f2697c3a1\">\n",
              "    <div class=\"colab-df-container\">\n",
              "      <div>\n",
              "<style scoped>\n",
              "    .dataframe tbody tr th:only-of-type {\n",
              "        vertical-align: middle;\n",
              "    }\n",
              "\n",
              "    .dataframe tbody tr th {\n",
              "        vertical-align: top;\n",
              "    }\n",
              "\n",
              "    .dataframe thead th {\n",
              "        text-align: right;\n",
              "    }\n",
              "</style>\n",
              "<table border=\"1\" class=\"dataframe\">\n",
              "  <thead>\n",
              "    <tr style=\"text-align: right;\">\n",
              "      <th></th>\n",
              "      <th>lanes</th>\n",
              "      <th>length</th>\n",
              "      <th>date</th>\n",
              "    </tr>\n",
              "  </thead>\n",
              "  <tbody>\n",
              "    <tr>\n",
              "      <th>count</th>\n",
              "      <td>1631.00000</td>\n",
              "      <td>1631.000000</td>\n",
              "      <td>1631.000000</td>\n",
              "    </tr>\n",
              "    <tr>\n",
              "      <th>mean</th>\n",
              "      <td>1.42244</td>\n",
              "      <td>269.434449</td>\n",
              "      <td>1853.945432</td>\n",
              "    </tr>\n",
              "    <tr>\n",
              "      <th>std</th>\n",
              "      <td>0.51952</td>\n",
              "      <td>277.706646</td>\n",
              "      <td>536.597828</td>\n",
              "    </tr>\n",
              "    <tr>\n",
              "      <th>min</th>\n",
              "      <td>0.00000</td>\n",
              "      <td>0.000000</td>\n",
              "      <td>0.000000</td>\n",
              "    </tr>\n",
              "    <tr>\n",
              "      <th>25%</th>\n",
              "      <td>1.00000</td>\n",
              "      <td>124.040717</td>\n",
              "      <td>2007.000000</td>\n",
              "    </tr>\n",
              "    <tr>\n",
              "      <th>50%</th>\n",
              "      <td>1.00000</td>\n",
              "      <td>200.302684</td>\n",
              "      <td>2010.000000</td>\n",
              "    </tr>\n",
              "    <tr>\n",
              "      <th>75%</th>\n",
              "      <td>2.00000</td>\n",
              "      <td>341.022381</td>\n",
              "      <td>2010.000000</td>\n",
              "    </tr>\n",
              "    <tr>\n",
              "      <th>max</th>\n",
              "      <td>2.00000</td>\n",
              "      <td>3749.322638</td>\n",
              "      <td>2013.000000</td>\n",
              "    </tr>\n",
              "  </tbody>\n",
              "</table>\n",
              "</div>\n",
              "      <button class=\"colab-df-convert\" onclick=\"convertToInteractive('df-2587cb2b-77ff-4426-b3db-eb2f2697c3a1')\"\n",
              "              title=\"Convert this dataframe to an interactive table.\"\n",
              "              style=\"display:none;\">\n",
              "        \n",
              "  <svg xmlns=\"http://www.w3.org/2000/svg\" height=\"24px\"viewBox=\"0 0 24 24\"\n",
              "       width=\"24px\">\n",
              "    <path d=\"M0 0h24v24H0V0z\" fill=\"none\"/>\n",
              "    <path d=\"M18.56 5.44l.94 2.06.94-2.06 2.06-.94-2.06-.94-.94-2.06-.94 2.06-2.06.94zm-11 1L8.5 8.5l.94-2.06 2.06-.94-2.06-.94L8.5 2.5l-.94 2.06-2.06.94zm10 10l.94 2.06.94-2.06 2.06-.94-2.06-.94-.94-2.06-.94 2.06-2.06.94z\"/><path d=\"M17.41 7.96l-1.37-1.37c-.4-.4-.92-.59-1.43-.59-.52 0-1.04.2-1.43.59L10.3 9.45l-7.72 7.72c-.78.78-.78 2.05 0 2.83L4 21.41c.39.39.9.59 1.41.59.51 0 1.02-.2 1.41-.59l7.78-7.78 2.81-2.81c.8-.78.8-2.07 0-2.86zM5.41 20L4 18.59l7.72-7.72 1.47 1.35L5.41 20z\"/>\n",
              "  </svg>\n",
              "      </button>\n",
              "      \n",
              "  <style>\n",
              "    .colab-df-container {\n",
              "      display:flex;\n",
              "      flex-wrap:wrap;\n",
              "      gap: 12px;\n",
              "    }\n",
              "\n",
              "    .colab-df-convert {\n",
              "      background-color: #E8F0FE;\n",
              "      border: none;\n",
              "      border-radius: 50%;\n",
              "      cursor: pointer;\n",
              "      display: none;\n",
              "      fill: #1967D2;\n",
              "      height: 32px;\n",
              "      padding: 0 0 0 0;\n",
              "      width: 32px;\n",
              "    }\n",
              "\n",
              "    .colab-df-convert:hover {\n",
              "      background-color: #E2EBFA;\n",
              "      box-shadow: 0px 1px 2px rgba(60, 64, 67, 0.3), 0px 1px 3px 1px rgba(60, 64, 67, 0.15);\n",
              "      fill: #174EA6;\n",
              "    }\n",
              "\n",
              "    [theme=dark] .colab-df-convert {\n",
              "      background-color: #3B4455;\n",
              "      fill: #D2E3FC;\n",
              "    }\n",
              "\n",
              "    [theme=dark] .colab-df-convert:hover {\n",
              "      background-color: #434B5C;\n",
              "      box-shadow: 0px 1px 3px 1px rgba(0, 0, 0, 0.15);\n",
              "      filter: drop-shadow(0px 1px 2px rgba(0, 0, 0, 0.3));\n",
              "      fill: #FFFFFF;\n",
              "    }\n",
              "  </style>\n",
              "\n",
              "      <script>\n",
              "        const buttonEl =\n",
              "          document.querySelector('#df-2587cb2b-77ff-4426-b3db-eb2f2697c3a1 button.colab-df-convert');\n",
              "        buttonEl.style.display =\n",
              "          google.colab.kernel.accessAllowed ? 'block' : 'none';\n",
              "\n",
              "        async function convertToInteractive(key) {\n",
              "          const element = document.querySelector('#df-2587cb2b-77ff-4426-b3db-eb2f2697c3a1');\n",
              "          const dataTable =\n",
              "            await google.colab.kernel.invokeFunction('convertToInteractive',\n",
              "                                                     [key], {});\n",
              "          if (!dataTable) return;\n",
              "\n",
              "          const docLinkHtml = 'Like what you see? Visit the ' +\n",
              "            '<a target=\"_blank\" href=https://colab.research.google.com/notebooks/data_table.ipynb>data table notebook</a>'\n",
              "            + ' to learn more about interactive tables.';\n",
              "          element.innerHTML = '';\n",
              "          dataTable['output_type'] = 'display_data';\n",
              "          await google.colab.output.renderOutput(dataTable, element);\n",
              "          const docLink = document.createElement('div');\n",
              "          docLink.innerHTML = docLinkHtml;\n",
              "          element.appendChild(docLink);\n",
              "        }\n",
              "      </script>\n",
              "    </div>\n",
              "  </div>\n",
              "  "
            ]
          },
          "metadata": {},
          "execution_count": 19
        }
      ]
    },
    {
      "cell_type": "markdown",
      "source": [
        "# Detecting the **Outliners**\n",
        "for lanes,length and date\n",
        "\n",
        "\n",
        "\n"
      ],
      "metadata": {
        "id": "MTwJfrZ_XeTm"
      }
    },
    {
      "cell_type": "code",
      "source": [
        "sns.boxplot(x=bl['lanes'])"
      ],
      "metadata": {
        "colab": {
          "base_uri": "https://localhost:8080/",
          "height": 466
        },
        "id": "w5gvZ4juYHKL",
        "outputId": "3c512d19-29c0-4370-f1a7-e5ac88b5ce74"
      },
      "execution_count": 41,
      "outputs": [
        {
          "output_type": "execute_result",
          "data": {
            "text/plain": [
              "<Axes: xlabel='lanes'>"
            ]
          },
          "metadata": {},
          "execution_count": 41
        },
        {
          "output_type": "display_data",
          "data": {
            "text/plain": [
              "<Figure size 640x480 with 1 Axes>"
            ],
            "image/png": "[encoded data removed]"
          },
          "metadata": {}
        }
      ]
    },
    {
      "cell_type": "code",
      "source": [
        "sns.boxplot(x = bl['length'])"
      ],
      "metadata": {
        "colab": {
          "base_uri": "https://localhost:8080/",
          "height": 466
        },
        "id": "d9wt8xDyczk4",
        "outputId": "6d0b0518-4208-42e9-eeb3-79929f6f6a3c"
      },
      "execution_count": 43,
      "outputs": [
        {
          "output_type": "execute_result",
          "data": {
            "text/plain": [
              "<Axes: xlabel='length'>"
            ]
          },
          "metadata": {},
          "execution_count": 43
        },
        {
          "output_type": "display_data",
          "data": {
            "text/plain": [
              "<Figure size 640x480 with 1 Axes>"
            ],
            "image/png": "[encoded data removed]"
          },
          "metadata": {}
        }
      ]
    },
    {
      "cell_type": "code",
      "source": [
        "sns.boxplot(x = bl['date'])"
      ],
      "metadata": {
        "colab": {
          "base_uri": "https://localhost:8080/",
          "height": 466
        },
        "id": "wVNm_l0Mc8tM",
        "outputId": "6b2f3731-bca6-4884-df8d-be53cf041ab2"
      },
      "execution_count": 44,
      "outputs": [
        {
          "output_type": "execute_result",
          "data": {
            "text/plain": [
              "<Axes: xlabel='date'>"
            ]
          },
          "metadata": {},
          "execution_count": 44
        },
        {
          "output_type": "display_data",
          "data": {
            "text/plain": [
              "<Figure size 640x480 with 1 Axes>"
            ],
            "image/png": "[encoded data removed]"
          },
          "metadata": {}
        }
      ]
    },
    {
      "cell_type": "markdown",
      "source": [
        "We can see that there are more number of outliners in graph of length and also we can also see from the describe that the max_length is far more greater than the mean_length"
      ],
      "metadata": {
        "id": "TX_mCZJldHlf"
      }
    },
    {
      "cell_type": "markdown",
      "source": [
        "Now let's remove the outlines in length"
      ],
      "metadata": {
        "id": "FPlLEuyxeBbQ"
      }
    },
    {
      "cell_type": "code",
      "source": [
        "# Position of the Outlier\n",
        "print(np.where(bl['length']>500))\n"
      ],
      "metadata": {
        "colab": {
          "base_uri": "https://localhost:8080/"
        },
        "id": "FWL2P6YCeFAo",
        "outputId": "26a79236-18f6-4841-e404-29984b97cda6"
      },
      "execution_count": 45,
      "outputs": [
        {
          "output_type": "stream",
          "name": "stdout",
          "text": [
            "(array([   1,    2,    8,   14,   16,   48,   51,   52,  112,  151,  167,\n",
            "        174,  177,  184,  196,  206,  208,  209,  211,  215,  216,  217,\n",
            "        222,  223,  224,  226,  227,  228,  230,  242,  243,  250,  259,\n",
            "        260,  264,  290,  291,  298,  354,  355,  356,  409,  413,  416,\n",
            "        431,  448,  449,  450,  454,  455,  472,  473,  480,  481,  496,\n",
            "        497,  498,  501,  565,  582,  584,  602,  615,  616,  633,  645,\n",
            "        647,  660,  661,  687,  734,  746,  747,  751,  757,  759,  765,\n",
            "        767,  776,  777,  782,  783,  853,  854,  855,  867,  868,  871,\n",
            "        873,  885,  893,  897,  902,  903,  933,  934,  951,  956,  957,\n",
            "        959,  960,  966,  967,  968, 1010, 1028, 1072, 1075, 1076, 1088,\n",
            "       1093, 1094, 1095, 1096, 1097, 1098, 1099, 1100, 1105, 1106, 1107,\n",
            "       1123, 1124, 1130, 1160, 1161, 1167, 1170, 1171, 1172, 1173, 1176,\n",
            "       1177, 1195, 1196, 1227, 1228, 1283, 1286, 1287, 1304, 1310, 1342,\n",
            "       1343, 1347, 1380, 1384, 1394, 1444, 1520, 1528, 1531, 1532, 1534,\n",
            "       1535, 1537, 1538, 1544, 1561, 1582, 1583, 1584, 1594, 1605, 1620]),)\n"
          ]
        }
      ]
    },
    {
      "cell_type": "code",
      "source": [
        "# IQR(Inter Quatile Range)\n",
        "Q1 = np.percentile(bl['length'], 25, method='midpoint')\n",
        "Q3 = np.percentile(bl['length'], 75, method='midpoint')\n",
        "IQR = Q3 - Q1\n",
        "print(IQR)\n"
      ],
      "metadata": {
        "colab": {
          "base_uri": "https://localhost:8080/"
        },
        "id": "vK0Yk7TDescC",
        "outputId": "3fd49d38-514f-4f17-a577-4aeebdf044c3"
      },
      "execution_count": 46,
      "outputs": [
        {
          "output_type": "stream",
          "name": "stdout",
          "text": [
            "216.98166358999998\n"
          ]
        }
      ]
    },
    {
      "cell_type": "code",
      "source": [
        "# Above Upper bound\n",
        "upper=Q3+1.5*IQR\n",
        "upper_array=np.where(bl['length']>=upper)[0]\n",
        "\n",
        "\n",
        "#Below Lower bound\n",
        "lower=Q1-1.5*IQR\n",
        "lower_array=np.where(bl['length']<=lower)[0]\n",
        "\n"
      ],
      "metadata": {
        "id": "fXzWLAvNfDHa"
      },
      "execution_count": 59,
      "outputs": []
    },
    {
      "cell_type": "code",
      "source": [
        "bl.drop(index = upper_array,inplace = True)\n",
        "bl.drop(index = lower_array,inplace = True)\n",
        "print(bl.shape)\n"
      ],
      "metadata": {
        "colab": {
          "base_uri": "https://localhost:8080/"
        },
        "id": "ItIqlFTZfXoM",
        "outputId": "b4927059-b480-4e09-ee18-48526fe2b601"
      },
      "execution_count": 65,
      "outputs": [
        {
          "output_type": "stream",
          "name": "stdout",
          "text": [
            "(1552, 8)\n"
          ]
        }
      ]
    },
    {
      "cell_type": "code",
      "source": [
        "sns.boxplot(x = bl['length'])"
      ],
      "metadata": {
        "colab": {
          "base_uri": "https://localhost:8080/",
          "height": 466
        },
        "id": "HO9lo2Tsg0th",
        "outputId": "99c45467-4a69-43f5-f1e6-b08589c6367d"
      },
      "execution_count": 66,
      "outputs": [
        {
          "output_type": "execute_result",
          "data": {
            "text/plain": [
              "<Axes: xlabel='length'>"
            ]
          },
          "metadata": {},
          "execution_count": 66
        },
        {
          "output_type": "display_data",
          "data": {
            "text/plain": [
              "<Figure size 640x480 with 1 Axes>"
            ],
            "image/png": "[encoded data removed]"
          },
          "metadata": {}
        }
      ]
    },
    {
      "cell_type": "markdown",
      "source": [
        "Plot different features against one other"
      ],
      "metadata": {
        "id": "uxQyWZ7uhJqy"
      }
    },
    {
      "cell_type": "code",
      "source": [
        "bl.type.value_counts().plot(kind = 'bar',figsize = (10,5))\n",
        "plt.title(\"Numbers of bikes by types\")\n",
        "plt.xlabel(\"Bike type\")\n",
        "plt.ylabel(\"Numbers\")"
      ],
      "metadata": {
        "colab": {
          "base_uri": "https://localhost:8080/",
          "height": 616
        },
        "id": "p8y8YCm_hUiS",
        "outputId": "8ba7b345-f9fd-448f-d455-b40fbef9bc08"
      },
      "execution_count": 72,
      "outputs": [
        {
          "output_type": "execute_result",
          "data": {
            "text/plain": [
              "Text(0, 0.5, 'Numbers')"
            ]
          },
          "metadata": {},
          "execution_count": 72
        },
        {
          "output_type": "display_data",
          "data": {
            "text/plain": [
              "<Figure size 1000x500 with 1 Axes>"
            ],
            "image/png": "[encoded data removed]"
          },
          "metadata": {}
        }
      ]
    },
    {
      "cell_type": "code",
      "source": [
        "plt.figure(figsize = (10,5))\n",
        "sns.histplot(bl['length'])"
      ],
      "metadata": {
        "colab": {
          "base_uri": "https://localhost:8080/",
          "height": 482
        },
        "id": "8RaSq2ryiSVh",
        "outputId": "7761f8ba-8d65-4d44-c534-5fdf76b765ed"
      },
      "execution_count": 75,
      "outputs": [
        {
          "output_type": "execute_result",
          "data": {
            "text/plain": [
              "<Axes: xlabel='length', ylabel='Count'>"
            ]
          },
          "metadata": {},
          "execution_count": 75
        },
        {
          "output_type": "display_data",
          "data": {
            "text/plain": [
              "<Figure size 1000x500 with 1 Axes>"
            ],
            "image/png": "[encoded data removed]"
          },
          "metadata": {}
        }
      ]
    },
    {
      "cell_type": "code",
      "source": [
        "plt.figure(figsize = (10,5))\n",
        "sns.scatterplot(x = bl['type'],y = bl['length'])"
      ],
      "metadata": {
        "colab": {
          "base_uri": "https://localhost:8080/",
          "height": 482
        },
        "id": "nwsKwoa5izVD",
        "outputId": "b843f343-90cb-429a-e63e-0a5d65f5d57b"
      },
      "execution_count": 76,
      "outputs": [
        {
          "output_type": "execute_result",
          "data": {
            "text/plain": [
              "<Axes: xlabel='type', ylabel='length'>"
            ]
          },
          "metadata": {},
          "execution_count": 76
        },
        {
          "output_type": "display_data",
          "data": {
            "text/plain": [
              "<Figure size 1000x500 with 1 Axes>"
            ],
            "image/png": "[encoded data removed]"
          },
          "metadata": {}
        }
      ]
    },
    {
      "cell_type": "code",
      "source": [
        "plt.figure(figsize = (10,5))\n",
        "sns.lineplot(x = bl['type'],y = bl['length'])\n",
        "sns.lineplot(x = bl['type'],y = bl['lanes'])"
      ],
      "metadata": {
        "colab": {
          "base_uri": "https://localhost:8080/",
          "height": 482
        },
        "id": "TKK6mtMzjFHS",
        "outputId": "1d76416b-261a-45dc-e9a9-f105b1f5bf83"
      },
      "execution_count": 80,
      "outputs": [
        {
          "output_type": "execute_result",
          "data": {
            "text/plain": [
              "<Axes: xlabel='type', ylabel='length'>"
            ]
          },
          "metadata": {},
          "execution_count": 80
        },
        {
          "output_type": "display_data",
          "data": {
            "text/plain": [
              "<Figure size 1000x500 with 1 Axes>"
            ],
            "image/png": "[encoded data removed]"
          },
          "metadata": {}
        }
      ]
    },
    {
      "cell_type": "code",
      "source": [
        "plt.figure(figsize = (10,5))\n",
        "c = bl.corr()\n",
        "sns.heatmap(c,annot = True)"
      ],
      "metadata": {
        "colab": {
          "base_uri": "https://localhost:8080/",
          "height": 523
        },
        "id": "h1LBKZyHjhSF",
        "outputId": "7c8557cf-efd7-4687-d6c9-de04444b4033"
      },
      "execution_count": 81,
      "outputs": [
        {
          "output_type": "stream",
          "name": "stderr",
          "text": [
            "<ipython-input-81-cfbcb5700029>:2: FutureWarning: The default value of numeric_only in DataFrame.corr is deprecated. In a future version, it will default to False. Select only valid columns or specify the value of numeric_only to silence this warning.\n",
            "  c = bl.corr()\n"
          ]
        },
        {
          "output_type": "execute_result",
          "data": {
            "text/plain": [
              "<Axes: >"
            ]
          },
          "metadata": {},
          "execution_count": 81
        },
        {
          "output_type": "display_data",
          "data": {
            "text/plain": [
              "<Figure size 1000x500 with 2 Axes>"
            ],
            "image/png": "[encoded data removed]"
          },
          "metadata": {}
        }
      ]
    }
  ]
}